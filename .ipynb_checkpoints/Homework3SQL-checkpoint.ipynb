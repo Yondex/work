{
 "cells": [
  {
   "cell_type": "code",
   "execution_count": null,
   "id": "modified-denial",
   "metadata": {},
   "outputs": [],
   "source": [
    "#проверка подключения PostgreSQL \n",
    "import psycopg2\n",
    "import pandas as pd\n",
    "\n",
    "DB_HOST = '52.157.159.24'\n",
    "\n",
    "#####################\n",
    "#!введите свои реквизиты!\n",
    "\n",
    "DB_USER = 'student7'\n",
    "DB_USER_PASSWORD = 'student7_password'\n",
    "DB_NAME = 'sql_ex_for_student7'\n",
    "\n",
    "conn = psycopg2.connect(host=DB_HOST, user=DB_USER, password=DB_USER_PASSWORD, dbname=DB_NAME)"
   ]
  },
  {
   "cell_type": "code",
   "execution_count": 4,
   "id": "committed-beast",
   "metadata": {},
   "outputs": [
    {
     "data": {
      "text/html": [
       "<div>\n",
       "<style scoped>\n",
       "    .dataframe tbody tr th:only-of-type {\n",
       "        vertical-align: middle;\n",
       "    }\n",
       "\n",
       "    .dataframe tbody tr th {\n",
       "        vertical-align: top;\n",
       "    }\n",
       "\n",
       "    .dataframe thead th {\n",
       "        text-align: right;\n",
       "    }\n",
       "</style>\n",
       "<table border=\"1\" class=\"dataframe\">\n",
       "  <thead>\n",
       "    <tr style=\"text-align: right;\">\n",
       "      <th></th>\n",
       "      <th>class</th>\n",
       "      <th>count</th>\n",
       "    </tr>\n",
       "  </thead>\n",
       "  <tbody>\n",
       "    <tr>\n",
       "      <th>0</th>\n",
       "      <td>Kongo</td>\n",
       "      <td>1</td>\n",
       "    </tr>\n",
       "  </tbody>\n",
       "</table>\n",
       "</div>"
      ],
      "text/plain": [
       "   class  count\n",
       "0  Kongo      1"
      ]
     },
     "execution_count": 4,
     "metadata": {},
     "output_type": "execute_result"
    }
   ],
   "source": [
    "#--Корабли: Для каждого класса определите число кораблей этого класса, потопленных в сражениях. \n",
    "#Вывести: класс и число потопленных кораблей.\n",
    "request = \"\"\"\n",
    "SELECT class, count(ship) FROM ships left join Outcomes on Outcomes.ship=ships.name\n",
    "where result='sunk'\n",
    "group by class\n",
    "\n",
    "\"\"\"\n",
    "pd.read_sql_query(request, conn)"
   ]
  },
  {
   "cell_type": "code",
   "execution_count": null,
   "id": "african-salvation",
   "metadata": {},
   "outputs": [],
   "source": [
    "#--task2\n",
    "#--Корабли: Для каждого класса определите год, когда был спущен на воду первый корабль этого класса. \n",
    "#Если год спуска на воду головного корабля неизвестен, определите минимальный год спуска на воду кораблей этого класса.\n",
    "#Вывести: класс, год.\n",
    "request = \"\"\"\n",
    "select class, min(launched) from Ships GROUP BY Class\n",
    "UNION\n",
    "select ship as class, NULL from Outcomes \n",
    "WHERE ship IN (select class from Classes)  and ship not IN (select name from Ships)\n",
    "\n",
    "\"\"\"\n",
    "pd.read_sql_query(request, conn)\n",
    "\n"
   ]
  },
  {
   "cell_type": "code",
   "execution_count": null,
   "id": "environmental-console",
   "metadata": {},
   "outputs": [],
   "source": [
    "#--task3\n",
    "#--Корабли: Для классов, имеющих потери в виде потопленных кораблей и не менее 3 кораблей в базе данных,\n",
    "#вывести имя класса и число потопленных кораблей.\n",
    "request = \"\"\"\n",
    "select class, count(class) from\n",
    "( \n",
    "select Classes.class, outcomes.ship from classes join outcomes on Classes.class=outcomes.ship where outcomes.result='sunk' \n",
    "union \n",
    "select Ships.class, Outcomes.ship from outcomes join ships on Ships.name=Outcomes.ship where Outcomes.result='sunk') as C\n",
    "where class in \n",
    "\t( select distinct M.class from  (select Classes.class, Outcomes.ship from classes join outcomes on Classes.class=Outcomes.ship \n",
    "\t  union \n",
    "\t  select Classes.class, Ships.name from classes join ships on Classes.class=Ships.class) as M group by M.class \n",
    "having count(M.class)>=3 )  group by class \n",
    "\n",
    "\"\"\"\n",
    "pd.read_sql_query(request, conn)"
   ]
  },
  {
   "cell_type": "code",
   "execution_count": null,
   "id": "narrative-ministry",
   "metadata": {},
   "outputs": [],
   "source": [
    "#--task4\n",
    "#--Корабли: Найдите названия кораблей, имеющих наибольшее число орудий среди всех кораблей такого же водоизмещения \n",
    "#(учесть корабли из таблицы Outcomes).\n",
    "request = \"\"\"\n",
    "select ships.class, count(name), max(classes.numGuns) as maximum from ships left join classes on ships.class = classes.class\n",
    "left join outcomes on outcomes.ship= ships.name\n",
    "group by ships.class, classes.numGuns\n",
    "\n",
    "\"\"\"\n",
    "pd.read_sql_query(request, conn)"
   ]
  },
  {
   "cell_type": "code",
   "execution_count": null,
   "id": "arctic-thomas",
   "metadata": {},
   "outputs": [],
   "source": [
    "#--task5\n",
    "#--Компьютерная фирма: Найдите производителей принтеров, которые производят ПК с наименьшим объемом RAM и \n",
    "#с самым быстрым процессором среди всех ПК, имеющих наименьший объем RAM. Вывести: Maker\n",
    "request = \"\"\"\n",
    "\n",
    "SELECT DISTINCT maker FROM Product \n",
    "WHERE type = 'printer' \n",
    "AND maker IN \n",
    "      (select maker from Product \n",
    "where model in \n",
    "      (select model from pc \n",
    "where ram in \n",
    "      (select min(ram) from pc)\n",
    "and (speed in \n",
    "      (select max(speed) from pc \n",
    "where ram in  (select min(ram) from pc))\n",
    "               )))\n",
    "\"\"\"\n",
    "pd.read_sql_query(request, conn)"
   ]
  }
 ],
 "metadata": {
  "kernelspec": {
   "display_name": "Python 3",
   "language": "python",
   "name": "python3"
  },
  "language_info": {
   "codemirror_mode": {
    "name": "ipython",
    "version": 3
   },
   "file_extension": ".py",
   "mimetype": "text/x-python",
   "name": "python",
   "nbconvert_exporter": "python",
   "pygments_lexer": "ipython3",
   "version": "3.9.0"
  }
 },
 "nbformat": 4,
 "nbformat_minor": 5
}
