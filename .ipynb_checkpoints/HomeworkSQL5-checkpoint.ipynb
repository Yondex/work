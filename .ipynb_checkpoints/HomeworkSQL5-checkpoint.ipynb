{
 "cells": [
  {
   "cell_type": "code",
   "execution_count": null,
   "id": "heavy-publication",
   "metadata": {},
   "outputs": [],
   "source": [
    "#проверка подключения PostgreSQL \n",
    "import psycopg2\n",
    "import pandas as pd\n",
    "\n",
    "DB_HOST = '52.157.159.24'\n",
    "\n",
    "#####################\n",
    "#!введите свои реквизиты!\n",
    "\n",
    "DB_USER = 'student7'\n",
    "DB_USER_PASSWORD = 'student7_password'\n",
    "DB_NAME = 'sql_ex_for_student7'\n",
    "\n",
    "conn = psycopg2.connect(host=DB_HOST, user=DB_USER, password=DB_USER_PASSWORD, dbname=DB_NAME)"
   ]
  },
  {
   "cell_type": "code",
   "execution_count": null,
   "id": "corporate-charger",
   "metadata": {},
   "outputs": [],
   "source": [
    "#--task4 (lesson5)\n",
    "#-- Корабли: Сделать копию таблицы ships (ships_two_words), но у название корабля должно состоять из двух слов\n",
    "request = \"\"\"\n",
    "CREATE TABLE ships_two_words as SELECT * from ships where name like '% %'\n",
    "\n",
    "\"\"\"\n",
    "pd.read_sql_query(request, conn)"
   ]
  },
  {
   "cell_type": "code",
   "execution_count": null,
   "id": "collected-firmware",
   "metadata": {},
   "outputs": [],
   "source": [
    "#--task1 (lesson5)\n",
    "#-- Компьютерная фирма: Сделать view (pages_all_products), в которой будет постраничная разбивка всех продуктов (не более двух продуктов на одной странице). Вывод: все данные из laptop, номер страницы, список всех страниц\n",
    "\n",
    "\n",
    "request = \"\"\"\n",
    "create view count_products_by_makers(maker, count) as \n",
    "(\n",
    "SELECT model, \n",
    "      CASE WHEN number % 2 = 0 THEN number/2 ELSE number/2 + 1 END AS page_number, \n",
    "      CASE WHEN total % 2 = 0 THEN total/2 ELSE total/2 + 1 END AS num_of_pages\n",
    "FROM (\n",
    "      \n",
    "\n",
    "select model,  \n",
    "ROW_NUMBER() OVER(ORDER BY model DESC) AS number,  COUNT(*) OVER() AS total \n",
    "from (\n",
    "select model from pc \n",
    "union all\n",
    "select model from printer \n",
    "union all\n",
    "select model from laptop \n",
    ")x\n",
    "\t\t\n",
    ") X\n",
    "\n",
    ")\n",
    "\"\"\"\n",
    "pd.read_sql_query(request, conn)"
   ]
  },
  {
   "cell_type": "code",
   "execution_count": null,
   "id": "looking-increase",
   "metadata": {},
   "outputs": [],
   "source": [
    "#--task5 (lesson5)\n",
    "#-- Корабли: Вывести список кораблей, у которых class отсутствует (IS NULL) и название начинается с буквы \"S\"\n",
    "request = \"\"\"\n",
    "select ship from \n",
    "(select ship from outcomes where ship  not in (select class from classes)\n",
    "except\n",
    "select name from ships \n",
    ")p \n",
    "where ship like 'S%'\n",
    "\n",
    "\"\"\"\n",
    "pd.read_sql_query(request, conn)"
   ]
  },
  {
   "cell_type": "code",
   "execution_count": null,
   "id": "chief-vegetation",
   "metadata": {},
   "outputs": [],
   "source": [
    "#--task6 (lesson5)\n",
    "#-- Компьютерная фирма: Вывести все принтеры производителя = 'A' со стоимостью выше средней по принтерам производителя = 'C' и три самых дорогих (через оконные функции). Вывести model\n",
    "request = \"\"\"\n",
    "select * from (\n",
    "select printer.model, row_number() over (partition by printer order by price desc) as rn from printer join product on printer.model = product.model\n",
    "where maker = 'A' and \n",
    "price > (select avg(price) from printer join product on printer.model = product.model\n",
    "where maker = 'D') \n",
    ") p\n",
    "where rn < 3\n",
    "\"\"\"\n",
    "pd.read_sql_query(request, conn)"
   ]
  }
 ],
 "metadata": {
  "kernelspec": {
   "display_name": "Python 3",
   "language": "python",
   "name": "python3"
  },
  "language_info": {
   "codemirror_mode": {
    "name": "ipython",
    "version": 3
   },
   "file_extension": ".py",
   "mimetype": "text/x-python",
   "name": "python",
   "nbconvert_exporter": "python",
   "pygments_lexer": "ipython3",
   "version": "3.9.0"
  }
 },
 "nbformat": 4,
 "nbformat_minor": 5
}
