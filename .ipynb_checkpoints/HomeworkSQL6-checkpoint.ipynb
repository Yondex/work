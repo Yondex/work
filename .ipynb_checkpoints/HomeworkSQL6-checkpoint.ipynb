{
 "cells": [
  {
   "cell_type": "code",
   "execution_count": 3,
   "id": "narrow-swift",
   "metadata": {},
   "outputs": [],
   "source": [
    "#проверка подключения PostgreSQL \n",
    "import psycopg2\n",
    "import pandas as pd\n",
    "\n",
    "DB_HOST = '52.157.159.24'\n",
    "\n",
    "#####################\n",
    "#!введите свои реквизиты!\n",
    "\n",
    "DB_USER = 'student7'\n",
    "DB_USER_PASSWORD = 'student7_password'\n",
    "DB_NAME = 'sql_ex_for_student7'\n",
    "\n",
    "conn = psycopg2.connect(host=DB_HOST, user=DB_USER, password=DB_USER_PASSWORD, dbname=DB_NAME)"
   ]
  },
  {
   "cell_type": "code",
   "execution_count": 2,
   "id": "gothic-accreditation",
   "metadata": {},
   "outputs": [],
   "source": [
    "#--task1  (lesson6, дополнительно)\n",
    "#-- SQL: Создайте таблицу с синтетическими данными (10000 строк, 3 колонки, все типы int) и заполните ее случайными данными от 0 до 1 000 000. Проведите EXPLAIN операции и сравните базовые операции.\n",
    "request = \"\"\"\n",
    "create table vin as  SELECT generate_series(1,10000) ,\n",
    "(random()*1000000)::integer as an1, \n",
    "(random()*1000000)::integer as an2,\n",
    "(random()*1000000)::integer as an3\n",
    "\n",
    "explain select * from vin\n",
    "explain select * from vin where an1 =6\n",
    "explain UPDATE vin SET an1 = 6 WHERE an2 = 881838;\n",
    "explain DELETE FROM vin WHERE an3 = 321453\n",
    "\n",
    "\"\"\"\n",
    "pd.read_sql_query(request, conn)\n"
   ]
  },
  {
   "cell_type": "code",
   "execution_count": null,
   "id": "rotary-fireplace",
   "metadata": {},
   "outputs": [],
   "source": [
    "#--task2 (lesson6, дополнительно)\n",
    "#-- GCP (Google Cloud Platform): Через GCP загрузите данные csv в базу PSQL по личным реквизитам (используя только bash и интерфейс bash) \n",
    "\n"
   ]
  }
 ],
 "metadata": {
  "kernelspec": {
   "display_name": "Python 3",
   "language": "python",
   "name": "python3"
  },
  "language_info": {
   "codemirror_mode": {
    "name": "ipython",
    "version": 3
   },
   "file_extension": ".py",
   "mimetype": "text/x-python",
   "name": "python",
   "nbconvert_exporter": "python",
   "pygments_lexer": "ipython3",
   "version": "3.9.0"
  }
 },
 "nbformat": 4,
 "nbformat_minor": 5
}
